{
 "cells": [
  {
   "cell_type": "markdown",
   "metadata": {},
   "source": [
    "Fizz Buzz\n",
    "=====\n",
    "\n",
    "[Fizz Buzz](http://en.wikipedia.org/wiki/Fizz_buzz) was designed as a children's game to teach kids about division, but in recent years it has been commonly used in interviews for computer programmer jobs as it is an excellent task to test some basic programming skills. The nicest thing about Fizz Buzz is that there are different ways of solving it that demonstrate different programming principles. Several possible solutions and implementations are shown below.\n",
    "\n",
    "How To Play\n",
    "-----------\n",
    "You can play Fizz Buzz by counting each player says the number that is the increment of the one that came before. The game element of Fizz Buzz is that you have to replace any number that can be divided by 3 with Fizz, and any number that is divisable by 5 with Buzz. For example:\n",
    "\n",
    "* 1\n",
    "* Two\n",
    "* Fizz\n",
    "* Four\n",
    "* Buzz\n",
    "* Fizz\n",
    "* 7\n",
    "* 8\n",
    "* Fizz\n",
    "* Buzz\n",
    "* etc.\n",
    "\n",
    "Modulo\n",
    "------\n",
    "When implementing a program that can play Fizz Buzz you need to test if a number if divisable by another. A common way to do this is to use the [modulo operation](http://en.wikipedia.org/wiki/Modulo_operation). The modulo operation returns the remainder after a division. What this means is that when only considering whole numbers there can be some remainder after a division that can't be divided anymore. For example, when you are with a group of seven people and you're boarding a rollercoaster that has carts with two seats each you can find out how many of you will have to sit alone by performing the operation: `7 mod 2`, the result of this operation is 1. Because you can fit 3 times 2 people in a cart, so 6, and then there is `7 - 6 = 1` person left. You can find some examples of the modulo operation in the next block.\n",
    "\n",
    "The python notation for modulo is to use the `%` symbol similarly to how you would use other math operators such as `+, -, *`, so `7 % 2` is how we would write the operation from the previous example in python."
   ]
  },
  {
   "cell_type": "code",
   "execution_count": 20,
   "metadata": {
    "collapsed": false
   },
   "outputs": [
    {
     "name": "stdout",
     "output_type": "stream",
     "text": [
      "As in our example: 1 person will have to sit alone when we perform 7 people % 2 seats per cart\n",
      "\n",
      "More examples:\n",
      "11 % 4 = 3\n",
      "7 % 5 = 2\n",
      "2 % 8 = 2\n",
      "10 % 5 = 0\n"
     ]
    }
   ],
   "source": [
    "people = 7\n",
    "seatsPerCart = 2\n",
    "print 'As in our example:', people % seatsPerCart, 'person will have to sit alone when we perform 7 people % 2 seats per cart'\n",
    "\n",
    "print ''\n",
    "print 'More examples:'\n",
    "print '11 % 4 =', 11 % 4\n",
    "print '7 % 5 =', 7 % 5\n",
    "print '2 % 8 =', 2 % 8\n",
    "print '10 % 5 =', 10 % 5"
   ]
  },
  {
   "cell_type": "markdown",
   "metadata": {},
   "source": [
    "Back to Fizz Buzz\n",
    "-----------------\n",
    "As you might've noticed in the examples above, the remainder of the modulo operation `10 % 5` was 0, this is because 10 is a multiple of 5, and similarly the remainder is also 0 when we take the modulo of any other multiple of 5, or of 3 for that matter. Thus, when playing Fizz Buzz the modulo operation makes it very easy to check if the number is a multiple of 3 or 5. We will demonstrate this in the next block."
   ]
  },
  {
   "cell_type": "code",
   "execution_count": 26,
   "metadata": {
    "collapsed": false
   },
   "outputs": [
    {
     "name": "stdout",
     "output_type": "stream",
     "text": [
      "Count: 1 Mod 3: 1 Mod 5: 1\n",
      "Count: 2 Mod 3: 2 Mod 5: 2\n",
      "Count: 3 Mod 3: 0 Mod 5: 3\n",
      "Count: 4 Mod 3: 1 Mod 5: 4\n",
      "Count: 5 Mod 3: 2 Mod 5: 0\n",
      "Count: 6 Mod 3: 0 Mod 5: 1\n",
      "Count: 7 Mod 3: 1 Mod 5: 2\n",
      "Count: 8 Mod 3: 2 Mod 5: 3\n",
      "Count: 9 Mod 3: 0 Mod 5: 4\n",
      "Count: 10 Mod 3: 1 Mod 5: 0\n",
      "etc.\n"
     ]
    }
   ],
   "source": [
    "for i in range(1,11):\n",
    "    print 'Count:', i, 'Mod 3:', i % 3, 'Mod 5:', i % 5\n",
    "print 'etc.'"
   ]
  },
  {
   "cell_type": "markdown",
   "metadata": {},
   "source": [
    "Everytime we encounter a multiple of 3 or 5, the remainder of the modulo operation is 0, as such we can use this to build an if-statement that checks whether the number we encounter is a mutliple of 3 or 5."
   ]
  },
  {
   "cell_type": "code",
   "execution_count": 29,
   "metadata": {
    "collapsed": false
   },
   "outputs": [
    {
     "name": "stdout",
     "output_type": "stream",
     "text": [
      "1\n",
      "2\n",
      "3\n",
      "is a multiple of 3!\n",
      "4\n",
      "5\n",
      "is a multiple of 5!\n",
      "6\n",
      "is a multiple of 3!\n",
      "7\n",
      "8\n",
      "9\n",
      "is a multiple of 3!\n",
      "10\n",
      "is a multiple of 5!\n"
     ]
    }
   ],
   "source": [
    "for i in range(1,11):\n",
    "    print i\n",
    "    if i % 3 == 0:\n",
    "        print 'is a multiple of 3!'\n",
    "    if i % 5 == 0:\n",
    "        print 'is a multiple of 5!'"
   ]
  },
  {
   "cell_type": "markdown",
   "metadata": {},
   "source": [
    "and since we're playing Fizz Buzz we can modify this to get closer to what we want to do:"
   ]
  },
  {
   "cell_type": "code",
   "execution_count": 31,
   "metadata": {
    "collapsed": false
   },
   "outputs": [
    {
     "name": "stdout",
     "output_type": "stream",
     "text": [
      "1\n",
      "2\n",
      "3\n",
      "Fizz\n",
      "4\n",
      "5\n",
      "Buzz\n",
      "6\n",
      "Fizz\n",
      "7\n",
      "8\n",
      "9\n",
      "Fizz\n",
      "10\n",
      "Buzz\n"
     ]
    }
   ],
   "source": [
    "for i in range(1,11):\n",
    "    print i\n",
    "    if i % 3 == 0:\n",
    "        print 'Fizz'\n",
    "    if i % 5 == 0:\n",
    "        print 'Buzz'"
   ]
  },
  {
   "cell_type": "markdown",
   "metadata": {},
   "source": [
    "The next step we want take is to not display the number when we say Fizz or Buzz, which we can do using an if-else construction:"
   ]
  },
  {
   "cell_type": "code",
   "execution_count": 34,
   "metadata": {
    "collapsed": false
   },
   "outputs": [
    {
     "name": "stdout",
     "output_type": "stream",
     "text": [
      "1\n",
      "2\n",
      "Fizz\n",
      "4\n",
      "Buzz\n",
      "Fizz\n",
      "7\n",
      "8\n",
      "Fizz\n",
      "Buzz\n"
     ]
    }
   ],
   "source": [
    "for i in range(1,11):\n",
    "    if i % 3 == 0:\n",
    "        print 'Fizz'\n",
    "    elif i % 5 == 0:\n",
    "        print 'Buzz'\n",
    "    else:\n",
    "        print i"
   ]
  },
  {
   "cell_type": "markdown",
   "metadata": {},
   "source": [
    "Voila! Our first working implementation of the Fizz Buzz game!\n",
    "\n",
    "However, what happens when the number is a multiple of both 3 AND 5? Take some time and think about what should happen and how you would change the program above to make it work for this case as well.\n",
    "\n",
    ".    \n",
    ".    \n",
    ".    \n",
    ".  \n",
    ".  \n",
    ".  \n",
    ".  \n",
    ".  \n",
    ".  \n",
    ".  \n",
    "\n",
    "Several possible solutions are shown below:"
   ]
  },
  {
   "cell_type": "code",
   "execution_count": 50,
   "metadata": {
    "collapsed": false
   },
   "outputs": [
    {
     "name": "stdout",
     "output_type": "stream",
     "text": [
      "1\n",
      "2\n",
      "Fizz\n",
      "4\n",
      "Buzz\n",
      "Fizz\n",
      "7\n",
      "8\n",
      "Fizz\n",
      "Buzz\n",
      "11\n",
      "Fizz\n",
      "13\n",
      "14\n",
      "Fizz Buzz\n"
     ]
    }
   ],
   "source": [
    "for i in range(1,16):\n",
    "    if i % 3 == 0 and i % 5 == 0:\n",
    "        print 'Fizz Buzz'\n",
    "    elif i % 3 == 0:\n",
    "        print 'Fizz'\n",
    "    elif i % 5 == 0:\n",
    "        print 'Buzz'\n",
    "    else:\n",
    "        print i"
   ]
  },
  {
   "cell_type": "markdown",
   "metadata": {},
   "source": [
    "Because the lowest multiple of both 3 and 5 is 15, and any higher multiple of 3 and 5 is also a multiple of 15, we can also check for 15 directly."
   ]
  },
  {
   "cell_type": "code",
   "execution_count": 51,
   "metadata": {
    "collapsed": false
   },
   "outputs": [
    {
     "name": "stdout",
     "output_type": "stream",
     "text": [
      "1\n",
      "2\n",
      "Fizz\n",
      "4\n",
      "Buzz\n",
      "Fizz\n",
      "7\n",
      "8\n",
      "Fizz\n",
      "Buzz\n",
      "11\n",
      "Fizz\n",
      "13\n",
      "14\n",
      "Fizz Buzz\n"
     ]
    }
   ],
   "source": [
    "for i in range(1,16):\n",
    "    if i % 15 == 0:\n",
    "        print 'Fizz Buzz'\n",
    "    elif i % 3 == 0:\n",
    "        print 'Fizz'\n",
    "    elif i % 5 == 0:\n",
    "        print 'Buzz'\n",
    "    else:\n",
    "        print i"
   ]
  },
  {
   "cell_type": "markdown",
   "metadata": {},
   "source": [
    "Or we can use nested if statements, by first checking for a 3 and only if it's a multiple of three we also check if it is a multiple of 5. Because if it is not a multiple of 3, it cannot be a multiple of both 3 and 5."
   ]
  },
  {
   "cell_type": "code",
   "execution_count": 48,
   "metadata": {
    "collapsed": false
   },
   "outputs": [
    {
     "name": "stdout",
     "output_type": "stream",
     "text": [
      "1\n",
      "2\n",
      "Fizz\n",
      "4\n",
      "Buzz\n",
      "Fizz\n",
      "7\n",
      "8\n",
      "Fizz\n",
      "Buzz\n",
      "11\n",
      "Fizz\n",
      "13\n",
      "14\n",
      "Fizz Buzz\n"
     ]
    }
   ],
   "source": [
    "for i in range(1,16):\n",
    "    if i % 3 == 0:\n",
    "        if i % 5 == 0:\n",
    "            print 'Fizz Buzz'\n",
    "        else:\n",
    "            print 'Fizz'\n",
    "    elif i % 5 == 0:\n",
    "        print 'Buzz'\n",
    "    else:\n",
    "        print i"
   ]
  },
  {
   "cell_type": "markdown",
   "metadata": {},
   "source": [
    "These solutions work well, but all require multiple if statements that do (almost) the same thing. An alternative (as shown on the [wikipedia page](http://en.wikipedia.org/wiki/Fizz_buzz#Other_uses) but here converted to python) is to use string concatenation. We store the temporary answer in a string, and when we want to extend it we add more text to the string."
   ]
  },
  {
   "cell_type": "code",
   "execution_count": 2,
   "metadata": {
    "collapsed": false
   },
   "outputs": [
    {
     "name": "stdout",
     "output_type": "stream",
     "text": [
      "1\n",
      "2\n",
      "Fizz\n",
      "4\n",
      "Buzz\n",
      "Fizz\n",
      "7\n",
      "8\n",
      "Fizz\n",
      "Buzz\n",
      "11\n",
      "Fizz\n",
      "13\n",
      "14\n",
      "FizzBuzz\n",
      "16\n",
      "17\n",
      "Fizz\n",
      "19\n",
      "Buzz\n",
      "Fizz\n",
      "22\n",
      "23\n",
      "Fizz\n",
      "Buzz\n",
      "26\n",
      "Fizz\n",
      "28\n",
      "29\n",
      "FizzBuzz\n"
     ]
    }
   ],
   "source": [
    "for i in range(1, 31):\n",
    "    # For each iteration,\n",
    "    # initialize an empty string\n",
    "    string = ''; \n",
    " \n",
    "    # If `i` is divisible through 3\n",
    "    # without a rest, append `Fizz`\n",
    "    if i % 3 == 0:\n",
    "        string += 'Fizz';\n",
    " \n",
    "    # If `i` is divisible through 5\n",
    "    # without a rest, append `Buzz`\n",
    "    if i % 5 == 0:\n",
    "        string += 'Buzz';\n",
    " \n",
    "    # If `string` is still empty,\n",
    "    # `i` is not divisible by 3 or 5,\n",
    "    # so use the number instead.\n",
    "    if string == '':\n",
    "        string += str(i);\n",
    " \n",
    "    # At the end of this iteration, print the string\n",
    "    print string"
   ]
  }
 ],
 "metadata": {
  "kernelspec": {
   "display_name": "Python 2",
   "language": "python",
   "name": "python2"
  },
  "language_info": {
   "codemirror_mode": {
    "name": "ipython",
    "version": 2
   },
   "file_extension": ".py",
   "mimetype": "text/x-python",
   "name": "python",
   "nbconvert_exporter": "python",
   "pygments_lexer": "ipython2",
   "version": "2.7.8"
  }
 },
 "nbformat": 4,
 "nbformat_minor": 0
}
